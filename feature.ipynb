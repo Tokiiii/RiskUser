{
 "cells": [
  {
   "cell_type": "code",
   "execution_count": 1,
   "metadata": {},
   "outputs": [],
   "source": [
    "import pandas as pd\n",
    "import numpy as np\n",
    "import datetime as dt\n",
    "import time"
   ]
  },
  {
   "cell_type": "code",
   "execution_count": 2,
   "metadata": {},
   "outputs": [
    {
     "name": "stderr",
     "output_type": "stream",
     "text": [
      "/anaconda2/lib/python2.7/site-packages/IPython/core/interactiveshell.py:2718: DtypeWarning: Columns (2) have mixed types. Specify dtype option on import or set low_memory=False.\n",
      "  interactivity=interactivity, compiler=compiler, result=result)\n"
     ]
    }
   ],
   "source": [
    "#训练集\n",
    "uid_train = pd.read_csv('uid_train.txt',sep='\\t',header=None,names=('uid','label'))\n",
    "\n",
    "voice_train = pd.read_csv('voice_train.txt',sep='\\t',header=None,names=('uid','opp_num','opp_head','opp_len','start_time','end_time','call_type','in_out'),dtype={'start_time':str,'end_time':str})\n",
    "\n",
    "sms_train = pd.read_csv('sms_train.txt',sep='\\t',header=None,names=('uid','opp_num','opp_head','opp_len','start_time','in_out'),dtype={'start_time':str})\n",
    "\n",
    "wa_train = pd.read_csv('wa_train.txt',sep='\\t',header=None,names=('uid','wa_name','visit_cnt','visit_dura','up_flow','down_flow','wa_type','date'),dtype={'date':str})"
   ]
  },
  {
   "cell_type": "code",
   "execution_count": 3,
   "metadata": {},
   "outputs": [
    {
     "data": {
      "text/plain": [
       "uid             0\n",
       "wa_name       801\n",
       "visit_cnt     801\n",
       "visit_dura    801\n",
       "up_flow       801\n",
       "down_flow     801\n",
       "wa_type       801\n",
       "date          801\n",
       "dtype: int64"
      ]
     },
     "execution_count": 3,
     "metadata": {},
     "output_type": "execute_result"
    }
   ],
   "source": [
    "wa_train.isnull().sum()"
   ]
  },
  {
   "cell_type": "code",
   "execution_count": 4,
   "metadata": {},
   "outputs": [],
   "source": [
    "#测试集\n",
    "voice_test = pd.read_csv('voice_test_b.txt',sep='\\t',header=None,names=('uid','opp_num','opp_head','opp_len','start_time','end_time','call_type','in_out'),dtype={'start_time':str,'end_time':str})\n",
    "\n",
    "sms_test = pd.read_csv('sms_test_b.txt',sep='\\t',header=None,names=('uid','opp_num','opp_head','opp_len','start_time','in_out'),dtype={'start_time':str})\n",
    "\n",
    "wa_test = pd.read_csv('wa_test_b.txt',sep='\\t',header=None,names=('uid','wa_name','visit_cnt','visit_dura','up_flow','down_flow','wa_type','date'),dtype={'date':str})"
   ]
  },
  {
   "cell_type": "code",
   "execution_count": 5,
   "metadata": {},
   "outputs": [
    {
     "data": {
      "text/plain": [
       "uid             0\n",
       "wa_name       497\n",
       "visit_cnt     497\n",
       "visit_dura    497\n",
       "up_flow       497\n",
       "down_flow     497\n",
       "wa_type       497\n",
       "date          497\n",
       "dtype: int64"
      ]
     },
     "execution_count": 5,
     "metadata": {},
     "output_type": "execute_result"
    }
   ],
   "source": [
    "wa_test.isnull().sum()"
   ]
  },
  {
   "cell_type": "code",
   "execution_count": 6,
   "metadata": {},
   "outputs": [],
   "source": [
    "uid_test = pd.DataFrame({'uid':pd.unique(wa_test['uid'])})\n",
    "uid_test.to_csv('uid_test_b.txt',index=None)"
   ]
  },
  {
   "cell_type": "code",
   "execution_count": 7,
   "metadata": {},
   "outputs": [],
   "source": [
    "voice = pd.concat([voice_train,voice_test],axis=0)\n",
    "sms = pd.concat([sms_train,sms_test],axis=0)\n",
    "wa = pd.concat([wa_train,wa_test],axis=0)"
   ]
  },
  {
   "cell_type": "code",
   "execution_count": 26,
   "metadata": {},
   "outputs": [
    {
     "name": "stdout",
     "output_type": "stream",
     "text": [
      "<class 'pandas.core.frame.DataFrame'>\n",
      "Int64Index: 1760353 entries, 0 to 609574\n",
      "Data columns (total 8 columns):\n",
      "uid           object\n",
      "opp_num       object\n",
      "opp_head      object\n",
      "opp_len       int64\n",
      "start_time    object\n",
      "end_time      object\n",
      "call_type     int64\n",
      "in_out        int64\n",
      "dtypes: int64(3), object(5)\n",
      "memory usage: 160.9+ MB\n"
     ]
    }
   ],
   "source": [
    "#voice.isnull().sum()\n",
    "voice.info()"
   ]
  },
  {
   "cell_type": "code",
   "execution_count": 9,
   "metadata": {},
   "outputs": [
    {
     "data": {
      "text/plain": [
       "uid           0\n",
       "opp_num       0\n",
       "opp_head      0\n",
       "opp_len       0\n",
       "start_time    0\n",
       "in_out        0\n",
       "dtype: int64"
      ]
     },
     "execution_count": 9,
     "metadata": {},
     "output_type": "execute_result"
    }
   ],
   "source": [
    "sms.isnull().sum()"
   ]
  },
  {
   "cell_type": "code",
   "execution_count": 10,
   "metadata": {},
   "outputs": [
    {
     "data": {
      "text/plain": [
       "uid              0\n",
       "wa_name       1298\n",
       "visit_cnt     1298\n",
       "visit_dura    1298\n",
       "up_flow       1298\n",
       "down_flow     1298\n",
       "wa_type       1298\n",
       "date          1298\n",
       "dtype: int64"
      ]
     },
     "execution_count": 10,
     "metadata": {},
     "output_type": "execute_result"
    }
   ],
   "source": [
    "wa.isnull().sum()"
   ]
  },
  {
   "cell_type": "code",
   "execution_count": 11,
   "metadata": {},
   "outputs": [
    {
     "data": {
      "text/plain": [
       "uid           0\n",
       "wa_name       0\n",
       "visit_cnt     0\n",
       "visit_dura    0\n",
       "up_flow       0\n",
       "down_flow     0\n",
       "wa_type       0\n",
       "date          0\n",
       "dtype: int64"
      ]
     },
     "execution_count": 11,
     "metadata": {},
     "output_type": "execute_result"
    }
   ],
   "source": [
    "wa = wa.fillna(-999)\n",
    "wa.isnull().sum()"
   ]
  },
  {
   "cell_type": "code",
   "execution_count": 12,
   "metadata": {},
   "outputs": [
    {
     "name": "stdout",
     "output_type": "stream",
     "text": [
      "<class 'pandas.core.frame.DataFrame'>\n",
      "Int64Index: 1760353 entries, 0 to 609574\n",
      "Data columns (total 8 columns):\n",
      "uid           object\n",
      "opp_num       object\n",
      "opp_head      object\n",
      "opp_len       int64\n",
      "start_time    object\n",
      "end_time      object\n",
      "call_type     int64\n",
      "in_out        int64\n",
      "dtypes: int64(3), object(5)\n",
      "memory usage: 120.9+ MB\n"
     ]
    }
   ],
   "source": [
    "voice.info()"
   ]
  },
  {
   "cell_type": "code",
   "execution_count": 49,
   "metadata": {},
   "outputs": [
    {
     "name": "stderr",
     "output_type": "stream",
     "text": [
      "/anaconda2/lib/python2.7/site-packages/ipykernel_launcher.py:2: FutureWarning: using a dict on a Series for aggregation\n",
      "is deprecated and will be removed in a future version\n",
      "  \n",
      "/anaconda2/lib/python2.7/site-packages/ipykernel_launcher.py:4: FutureWarning: using a dict on a Series for aggregation\n",
      "is deprecated and will be removed in a future version\n",
      "  after removing the cwd from sys.path.\n"
     ]
    },
    {
     "name": "stdout",
     "output_type": "stream",
     "text": [
      "call_type                                                  1  \\\n",
      "uid                                                            \n",
      "u0001      D1DE6D77FF45AC7E143522C831111AA8E16C88EC4C9A2D...   \n",
      "u0002      B49D3D47438C2C5E7B48FF7245D1EB73435B023764E541...   \n",
      "u0003      640A47F46D750A464108C6FB72AFDE1A7D64E64514307C...   \n",
      "u0004      86F2E03E7E60D72476475F205673A01B98D8BB7C6CDF69...   \n",
      "u0005      5055F72FBFA9060FC6414EA07E749A13D42CA10F055BC4...   \n",
      "u0006      CEE5FEB134D2B62AA5A77EECCAE29F9005FC4673D1FC2C...   \n",
      "u0007      F601CF228617364D6D4E6CD23A63ED6D7A0639DB5609BC...   \n",
      "u0008      CBDC885E4E3B4BA45CE493D9F498A9D7C93B5086CEA244...   \n",
      "u0009      CE20BD2CAECE2820DE66419D7225CAC4979E724A0964B8...   \n",
      "u0010      E1901B64A9A9CB1D0A9CE1E457B736EF1E6B35BFC6CAE8...   \n",
      "u0011      45D385915C242D775818C96AFB2BCBCA27DC23A04E6E59...   \n",
      "u0012      5E1D6C23859206AA7EB54047CE05661620AA93774F8D99...   \n",
      "u0013      C7EA0EDD524086C369CFB9C0412EB774F506440BC38DCE...   \n",
      "u0014      F19A008ADA30EB90B7D4B0AC0E5FB92B86913D6B3CF071...   \n",
      "u0015      BF418A578E59AD72118AC74F04ED90FF34BA3DD67A5DE4...   \n",
      "u0016      7A188FB609224062B4099ECE7E1EE6617094E88C867501...   \n",
      "u0017      099CA2989F472142DF90A70AAEC20CE22063E019D71142...   \n",
      "u0018      F2B9C16F58A7BD0A619D3BC626E3FE83FFE1B7D74FAFA4...   \n",
      "u0019      D348AAD9D0169710AF5140645BE6536572F76C632146AC...   \n",
      "u0020      5E9908479CF316491E7FFE27CAC31370E07957A7FD9728...   \n",
      "u0021      AD960D1A2A2BA646B9FA39EF50FF0FFDAD960D1A2A2BA6...   \n",
      "u0022      547910339DD241A80DED6EFD1EC10F4A547910339DD241...   \n",
      "u0023      AF1EAF7578490E353A7363C3DC687E35AF1EAF7578490E...   \n",
      "u0024      E3326805446C051FC1E86F2C2B1CCCAD34406306ABA3B1...   \n",
      "u0025      6B7BDF237FDBB2D3C4613FFAB16F368317ABAE867F6E07...   \n",
      "u0026      58B1DE09D8EDFC50E1E18326DDB5CE59141989673D6A00...   \n",
      "u0027      5616C613F2AE7C18F2200DF2B7A919060C8DA2E9583332...   \n",
      "u0028      3DD6D5B8A46BD54081108714666EEC3D779AB1D6D121A3...   \n",
      "u0029      EB0706112578FDA55FDB691F4306E926A7F5F979163A16...   \n",
      "u0030      430729DDC62398CE4560900D6E4566BB360AD823B1CA72...   \n",
      "...                                                      ...   \n",
      "u9969      8979FD50EB15B280DDE2768ED4D8E8B98979FD50EB15B2...   \n",
      "u9970      173722D29AD6B455325CB15F381C26B4173722D29AD6B4...   \n",
      "u9971      2C1D1700E2C9FF06CEBDD2D76E2B2D9B2C1D1700E2C9FF...   \n",
      "u9972      C87FEA0612C9935AAAF593277CED7A7614A0E76A9A7688...   \n",
      "u9973      D40E4ABDF4444454C4B31DEC5D103BECD40E4ABDF44444...   \n",
      "u9974      9849748DFFD3C03F089511BF0CB1D78B7CDE15F7824494...   \n",
      "u9975      427B3AA2EFF7C6BAE4BC394C9A28E5DE35384F4ACA99E9...   \n",
      "u9976      871316AEB533380C665F304B484FD892871316AEB53338...   \n",
      "u9977      15002519519B19F42A19B9527BC1970315002519519B19...   \n",
      "u9978      39FD159F3FFA91196307F055A5EBE6C9C7EA0EDD524086...   \n",
      "u9979      AF3921111CA2FFC6231E31170F1C760B603D12DD1D5925...   \n",
      "u9980      1542CB2C489800C99BFB9587D4A07F1A1491F48FDAE782...   \n",
      "u9981      D962E29688C97A65901DEB9D9229196DF10B19D809485E...   \n",
      "u9982      A88EB14374E8B120A1ED66AB5D201C07A88EB14374E8B1...   \n",
      "u9983      1CFAF8E4C20247BF4DD6EDCF6186382B1CFAF8E4C20247...   \n",
      "u9984      1E646006FC1094E34D8D799A895F0CA645C811653032D6...   \n",
      "u9985      D017E2992D9A7702DC6AB6A80FAE7140D017E2992D9A77...   \n",
      "u9986      6CA600DEAE1320316D8810D6555D267E4770F0B33E3AD0...   \n",
      "u9987      4C87B57DF3AA8C8E7992E4299D6CB172C071D0F99D28FE...   \n",
      "u9989      A2C60CBC5F6B0787587252AC9A401678A2C60CBC5F6B07...   \n",
      "u9990      E622F97DC03481B41D7909AF25003A302269EB71E3F807...   \n",
      "u9991      4458D39EC4FFA38C21A9E6B0DE2312B446E08422D97395...   \n",
      "u9992      7ED878A89B40A0547A55D60E67B3FF947ED878A89B40A0...   \n",
      "u9993      635985FD22F437A3E60D970936ACD3FD77D4CB243109AB...   \n",
      "u9994      37C9FD12622963BAAAF5C1FB172E955937C9FD12622963...   \n",
      "u9995      22AF72A40FEC24DFE28CD45ED5CE4B5122AF72A40FEC24...   \n",
      "u9996      CE550961A385AA0AEECF4DC57865AB57B8FB516B1D9708...   \n",
      "u9997      F6FB08950AF59EFCC48981B840ECF7118D986E0B2B5D29...   \n",
      "u9998      DDF95CB303E10CB589D6F5FABADC5A9EAE59A83EBF5CFD...   \n",
      "u9999      755B0A0E26D3F75A6DBF373C0B2982CBF1E7F93F512B9D...   \n",
      "\n",
      "call_type                                                  2  \\\n",
      "uid                                                            \n",
      "u0001                                                   None   \n",
      "u0002                                                   None   \n",
      "u0003                                                   None   \n",
      "u0004      1B542521BA038F314245FE4924037C70C281458D31EC5E...   \n",
      "u0005                                                   None   \n",
      "u0006      33F860C288AA5951247D41504F82A30933F860C288AA59...   \n",
      "u0007                       8C60CE6A79C5DFB791953AE70634DCDC   \n",
      "u0008                                                   None   \n",
      "u0009                       63A5F6AE9B070E575F71575CECB37E2F   \n",
      "u0010                                                   None   \n",
      "u0011                       008FA2AB5710FB2D2A001E5DF2032C3B   \n",
      "u0012      036D49462B34875573608F6F1A1ECF836F659B7F3188A8...   \n",
      "u0013                                                   None   \n",
      "u0014      6CEDA71FE4D775AB0864401AD8D995606CEDA71FE4D775...   \n",
      "u0015                                                   None   \n",
      "u0016      9A37541F02B0D277E8254801D6CE7FEE1CE4B45AACC057...   \n",
      "u0017      523482703AAB4922E4A81617BE375CDC2063E019D71142...   \n",
      "u0018      6A84595AB256C736A171494600A1B5636A84595AB256C7...   \n",
      "u0019                                                   None   \n",
      "u0020                                                   None   \n",
      "u0021                                                   None   \n",
      "u0022      651AE5274753741989B68127EE0523B8651AE527475374...   \n",
      "u0023      AF1EAF7578490E353A7363C3DC687E35AF1EAF7578490E...   \n",
      "u0024      C849E156D9C53C6DEDE3131457EE47AE9DE9F4F2F8FF10...   \n",
      "u0025      788682BCEBDAA73E29DD162D7218E51841C7F58DE711EF...   \n",
      "u0026                       647AE4907D9B69CC46CDCCB6DB12B24D   \n",
      "u0027      64C769B42C8054258DD585B3D80F30CB64C769B42C8054...   \n",
      "u0028      2D3D611289377288E309DCC7BEBD7F032D3D6112893772...   \n",
      "u0029      795EFB0B4C4F07BE2E2FBBB2BD47BA3146689EA08ADAA5...   \n",
      "u0030      C4A54C5C53C8D95CD5734C277306FD01B09CDA1DFF35E4...   \n",
      "...                                                      ...   \n",
      "u9969                       ED1BEE0D30ACFBE1AD2956BB65F97125   \n",
      "u9970                       01A374B7E66A5F0122434A10A9251225   \n",
      "u9971                                                   None   \n",
      "u9972      D1943ADA3C36C56C718C2FD7798B8313D1943ADA3C36C5...   \n",
      "u9973      A761C7545E951FCC88621F2C063AD677D9C0CF701CE72F...   \n",
      "u9974      456FF05A8B12BEF0776555743FD8413EB98C69D6D9C650...   \n",
      "u9975                                                   None   \n",
      "u9976      15B7A3401D2B2367C02ADB51AEB0C62E15B7A3401D2B23...   \n",
      "u9977                       6279C4E892599FF77A210F24CBE653AB   \n",
      "u9978      39FD159F3FFA91196307F055A5EBE6C939FD159F3FFA91...   \n",
      "u9979      AF3921111CA2FFC6231E31170F1C760B603D12DD1D5925...   \n",
      "u9980      5203EBD02E27CE29253139D682D99539EF0997648AB76E...   \n",
      "u9981                                                   None   \n",
      "u9982      4F0BD79BBAA60BD2D229BA56DBE078A3A7897DA7D21F2D...   \n",
      "u9983      4A485609073A652BB2B125D953A45EA04A485609073A65...   \n",
      "u9984      1E646006FC1094E34D8D799A895F0CA6E773B2471652A8...   \n",
      "u9985                                                   None   \n",
      "u9986                                                   None   \n",
      "u9987                                                   None   \n",
      "u9989      114BB88FCC026EA9602E76D04A9A08E0114BB88FCC026E...   \n",
      "u9990                                                   None   \n",
      "u9991      F93E30D427EA29FBA4B9AFF333B1F55770239E94B96C8B...   \n",
      "u9992      FC6E95CE2F1FE9822ACCC241821A71122B60B76F986875...   \n",
      "u9993                                                   None   \n",
      "u9994                       5F56B1485CA55CFA5F07F33B60B19647   \n",
      "u9995      9CEF281655EBAD40F5CFF073EAAF0FD7E393ADDC7399B3...   \n",
      "u9996      13E431F0341FEA2616065E43320C0DCE13E431F0341FEA...   \n",
      "u9997                                                   None   \n",
      "u9998                                                   None   \n",
      "u9999                                                   None   \n",
      "\n",
      "call_type                                                  3     4     5  \n",
      "uid                                                                       \n",
      "u0001                                                   None  None  None  \n",
      "u0002                                                   None  None  None  \n",
      "u0003                                                   None  None  None  \n",
      "u0004      B1840E8D4BB68B1457F0C4B73D280AD8C0038F0D9BB88A...  None  None  \n",
      "u0005      C3328352E5053F4FAE216D0C1E49B9E44597FE0B677D85...  None  None  \n",
      "u0006                                                   None  None  None  \n",
      "u0007      1F0CF4B3E1346C305625F2DE62926B42DC999EE203E72D...  None  None  \n",
      "u0008                                                   None  None  None  \n",
      "u0009      421F6A9250D24563CB2B6F18842858A9CE20BD2CAECE28...  None  None  \n",
      "u0010      C5EE804C5A929358EB51A0103B2FE4D17C46D5C8F31BF5...  None  None  \n",
      "u0011                                                   None  None  None  \n",
      "u0012      6F659B7F3188A80822C171FA08EC2FE1A5453B649B01EF...  None  None  \n",
      "u0013                                                   None  None  None  \n",
      "u0014      7D8DA234BC0CCFB2A702175D9724ED98B446F7F7DE4065...  None  None  \n",
      "u0015      7EEC955AC45DE74966577BFCC54CE22B2E9C3776B6EF5D...  None  None  \n",
      "u0016      C166808CE029C68F7332CAE42751BDDE0FEB576DDF3B07...  None  None  \n",
      "u0017                                                   None  None  None  \n",
      "u0018                                                   None  None  None  \n",
      "u0019      FEA504B8359FEC28D0AAAEF513CDABEC3E4E53A6F20E88...  None  None  \n",
      "u0020      43FB53B3FEA5B97A9FB11243ED87ABA543FB53B3FEA5B9...  None  None  \n",
      "u0021                                                   None  None  None  \n",
      "u0022                                                   None  None  None  \n",
      "u0023                                                   None  None  None  \n",
      "u0024      EBEBC85B60917185B7630F76578CB726E58568548B555E...  None  None  \n",
      "u0025      E5B228BF010F0BA9A13ED50E44D3F97F2344575B45AB33...  None  None  \n",
      "u0026      F07D1278B5C6567F20591228375E4F944F7CAACC404D2E...  None  None  \n",
      "u0027      64C9961C71D8A6F81D79FA8630D8E7A48D9BE96F9CDDC6...  None  None  \n",
      "u0028      3022D5678A02CBC6C866DA610FF05BC0779AB1D6D121A3...  None  None  \n",
      "u0029                       772B6A6B7B83FA697420340C65E5AC33  None  None  \n",
      "u0030      78072F506F0E4AC9BED985035E2DB538DB0ADDE108175D...  None  None  \n",
      "...                                                      ...   ...   ...  \n",
      "u9969                                                   None  None  None  \n",
      "u9970      A1D8EED4BA829317ED72C54BEBA02BB4FC383A50C6BFC8...  None  None  \n",
      "u9971                                                   None  None  None  \n",
      "u9972      AA56F40B57B015FBF6026B31A9AB5EA7AA56F40B57B015...  None  None  \n",
      "u9973      3DFCE8AC9AFF160886E5A00317D0C33A3DFCE8AC9AFF16...  None  None  \n",
      "u9974      7CDE15F7824494D348C1FE32F73D71F17CDE15F7824494...  None  None  \n",
      "u9975                                                   None  None  None  \n",
      "u9976                                                   None  None  None  \n",
      "u9977      15002519519B19F42A19B9527BC1970315002519519B19...  None  None  \n",
      "u9978      2B192E03E1F227FEE5FFB875D4BABFADF75882252DC00B...  None  None  \n",
      "u9979                                                   None  None  None  \n",
      "u9980                                                   None  None  None  \n",
      "u9981      D962E29688C97A65901DEB9D9229196D700CC58E502E7D...  None  None  \n",
      "u9982      3A73EA51210BA548B808E0D74FD5F4443A73EA51210BA5...  None  None  \n",
      "u9983                                                   None  None  None  \n",
      "u9984      7EF9E1F13750B9866016213B61A5DA1441EAA7C7879C51...  None  None  \n",
      "u9985      B42DF32EA70B3B446931F6DA66BDBCDC98D2BE5B0E4139...  None  None  \n",
      "u9986                                                   None  None  None  \n",
      "u9987                                                   None  None  None  \n",
      "u9989      A2C60CBC5F6B0787587252AC9A401678A2C60CBC5F6B07...  None  None  \n",
      "u9990                                                   None  None  None  \n",
      "u9991                                                   None  None  None  \n",
      "u9992                                                   None  None  None  \n",
      "u9993                                                   None  None  None  \n",
      "u9994      796E4AD1206A011845A5AD327796DC6E255B40278CB9D9...  None  None  \n",
      "u9995      76CEF4E9DE2EE51AECF4345456A3F9ED3B81B8A3206BA0...  None  None  \n",
      "u9996                                                   None  None  None  \n",
      "u9997                                                   None  None  None  \n",
      "u9998      0E6B3D3CB8AA32D74BD93A5DEF2AF2E9FEBA30286A6832...  None  None  \n",
      "u9999                                                   None  None  None  \n",
      "\n",
      "[7979 rows x 5 columns]\n"
     ]
    }
   ],
   "source": [
    "#通话记录\n",
    "voice_opp_num = voice.groupby(['uid'])['opp_num'].agg({'unique_count': lambda x:len(set(x)), 'count':lambda x:x.count()}).add_prefix('voice_opp_num').reset_index().fillna(0)\n",
    "\n",
    "voice_opp_head = voice.groupby(['uid'])['opp_head'].agg({'unique_count':lambda x:len(set(x))}).add_prefix('voice_opp_head').reset_index().fillna(0)\n",
    "#head_3 = voice.loc[voice['opp_head'] >= 100].groupby(['uid'])['opp_head'].agg({'count_3':lambda x:x.count()}).reset_index().fillna(0)\n",
    "#print head_3\n",
    "#head_1 = voice.loc[voice['opp_head'] < 100].groupby(['uid'])['opp_head'].agg({'count_1':lambda x:x.count()}).reset_index().fillna(0)\n",
    "#head_1.info()\n",
    "\n",
    "voice_opp_len = voice.groupby(['uid','opp_len'])['uid'].count().unstack().add_prefix('voice_opp_len').reset_index().fillna(0)\n",
    "\n",
    "voice_call_type = voice.groupby(['uid','call_type'])['uid'].count().unstack().add_prefix('voice_call_type').reset_index().fillna(0)\n",
    "\n",
    "voice_in_out = voice.groupby(['uid','in_out'])['uid'].count().unstack().add_prefix('voice_in_out').reset_index().fillna(0)"
   ]
  },
  {
   "cell_type": "code",
   "execution_count": 16,
   "metadata": {},
   "outputs": [
    {
     "name": "stderr",
     "output_type": "stream",
     "text": [
      "/anaconda2/lib/python2.7/site-packages/ipykernel_launcher.py:2: FutureWarning: using a dict on a Series for aggregation\n",
      "is deprecated and will be removed in a future version\n",
      "  \n",
      "/anaconda2/lib/python2.7/site-packages/ipykernel_launcher.py:4: FutureWarning: using a dict on a Series for aggregation\n",
      "is deprecated and will be removed in a future version\n",
      "  after removing the cwd from sys.path.\n"
     ]
    }
   ],
   "source": [
    "#短信记录\n",
    "sms_opp_num = sms.groupby(['uid'])['opp_num'].agg({'unique_count': lambda x: len(set(x)),'count':'count'}).add_prefix('sms_opp_num_').reset_index().fillna(0)\n",
    "\n",
    "sms_opp_head = sms.groupby(['uid'])['opp_head'].agg({'unique_count': lambda x: len(set(x))}).add_prefix('sms_opp_head_').reset_index().fillna(0)\n",
    "\n",
    "sms_opp_len=sms.groupby(['uid','opp_len'])['uid'].count().unstack().add_prefix('sms_opp_len_').reset_index().fillna(0)\n",
    "\n",
    "sms_in_out = sms.groupby(['uid','in_out'])['uid'].count().unstack().add_prefix('sms_in_out_').reset_index().fillna(0)"
   ]
  },
  {
   "cell_type": "code",
   "execution_count": 17,
   "metadata": {},
   "outputs": [
    {
     "name": "stderr",
     "output_type": "stream",
     "text": [
      "/anaconda2/lib/python2.7/site-packages/ipykernel_launcher.py:2: FutureWarning: using a dict on a Series for aggregation\n",
      "is deprecated and will be removed in a future version\n",
      "  \n"
     ]
    }
   ],
   "source": [
    "#网站/app记录\n",
    "wa_name = wa.groupby(['uid'])['wa_name'].agg({'unique_count': lambda x: len(pd.unique(x)),'count':'count'}).add_prefix('wa_name_').reset_index().fillna(0)\n",
    "\n",
    "visit_cnt = wa.groupby(['uid'])['visit_cnt'].agg(['std','max','min','median','mean','sum']).add_prefix('wa_visit_cnt_').reset_index().fillna(0)\n",
    "\n",
    "#根据特征重要性图删掉了min这个特征值\n",
    "visit_dura = wa.groupby(['uid'])['visit_dura'].agg(['std','max','median','mean','sum']).add_prefix('wa_visit_dura_').reset_index().fillna(0)\n",
    "\n",
    "up_flow = wa.groupby(['uid'])['up_flow'].agg(['std','max','min','median','mean','sum']).add_prefix('wa_up_flow_').reset_index().fillna(0)\n",
    "\n",
    "down_flow = wa.groupby(['uid'])['down_flow'].agg(['std','max','min','median','mean','sum']).add_prefix('wa_down_flow_').reset_index().fillna(0)\n",
    "\n",
    "#增加wa类型特征\n",
    "wa_type = wa.groupby(['uid','wa_type'])['uid'].count().unstack().add_prefix('wa_type').reset_index().fillna(0)"
   ]
  },
  {
   "cell_type": "code",
   "execution_count": 18,
   "metadata": {},
   "outputs": [],
   "source": [
    "feature = [voice_opp_num,voice_opp_head,voice_opp_len,voice_call_type,voice_in_out,sms_opp_num,sms_opp_head,sms_opp_len,sms_in_out,wa_name,visit_cnt,visit_dura,up_flow,\n",
    "           down_flow,wa_type]"
   ]
  },
  {
   "cell_type": "code",
   "execution_count": 19,
   "metadata": {},
   "outputs": [],
   "source": [
    "train_feature = uid_train\n",
    "for feat in feature:\n",
    "    train_feature=pd.merge(train_feature,feat,how='left',on='uid')"
   ]
  },
  {
   "cell_type": "code",
   "execution_count": 20,
   "metadata": {},
   "outputs": [],
   "source": [
    "test_feature = uid_test\n",
    "for feat in feature:\n",
    "    test_feature=pd.merge(test_feature,feat,how='left',on='uid')"
   ]
  },
  {
   "cell_type": "code",
   "execution_count": 21,
   "metadata": {},
   "outputs": [],
   "source": [
    "train_feature.to_csv('train_featurev2.csv',index=None)\n",
    "test_feature.to_csv('test_featurev2.csv',index=None)"
   ]
  },
  {
   "cell_type": "code",
   "execution_count": null,
   "metadata": {},
   "outputs": [],
   "source": []
  }
 ],
 "metadata": {
  "kernelspec": {
   "display_name": "Python 2",
   "language": "python",
   "name": "python2"
  },
  "language_info": {
   "codemirror_mode": {
    "name": "ipython",
    "version": 2
   },
   "file_extension": ".py",
   "mimetype": "text/x-python",
   "name": "python",
   "nbconvert_exporter": "python",
   "pygments_lexer": "ipython2",
   "version": "2.7.14"
  }
 },
 "nbformat": 4,
 "nbformat_minor": 2
}
